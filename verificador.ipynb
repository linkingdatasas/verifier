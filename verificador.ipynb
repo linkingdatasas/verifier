{
 "cells": [
  {
   "cell_type": "code",
   "execution_count": 1,
   "metadata": {},
   "outputs": [],
   "source": [
    "import json\n",
    "import hashlib \n",
    "import base64\n",
    "from collections import OrderedDict\n",
    "import requests"
   ]
  },
  {
   "cell_type": "code",
   "execution_count": 2,
   "metadata": {},
   "outputs": [],
   "source": [
    "### Función para crear el hash del json\n",
    "def encrypt_string(hash_string):\n",
    "    sha_signature = \\\n",
    "        hashlib.sha256(hash_string.encode()).hexdigest()\n",
    "    return sha_signature\n",
    "\n",
    "### Verificador de la existencia del hash dentro de la blockchain\n",
    "# Hash programa: hash que se obtiene con el json\n",
    "# Hash esperado: hash que se obtiene del composer server\n",
    "def verificacion_hash(hash_programa, hash_esperado):\n",
    "    ## Puede ser el mismo hash o estar contenido en el hash esperado\n",
    "    verdad_falso=hash_programa in hash_esperado or hash_programa==hash_esperado\n",
    "    return verdad_falso\n",
    "\n",
    "def obtener_certId_json(data):\n",
    "    # Creamos una lista de los items del diccionario creado a partir del json\n",
    "    items=list(data.items())\n",
    "    # Seleccionamos la segunda tupla que contiene el certificado ID\n",
    "    numero=items[1][1]\n",
    "    # Dicho numero es una variable string\n",
    "    return numero\n",
    "\n",
    "def url_id(url,certID):\n",
    "    url_total=url+certID\n",
    "    ## Header Accept: application/json\n",
    "    r = requests.post(url_total, headers={'Accept': 'application/json'})\n",
    "    ## Se supone que r es un json\n",
    "    return r\n",
    "\n",
    "def id_blockchain(json_file):\n",
    "    data = json.load(json_file, object_pairs_hook=OrderedDict)\n",
    "    # Creamos una lista de los items del diccionario creado\n",
    "    items=list(data.items())\n",
    "    # Segun lo que veo del json retornado, el hash esta en la 4 posicion \n",
    "    hash_code=items[3][1]\n",
    "    return hash_code"
   ]
  },
  {
   "cell_type": "code",
   "execution_count": null,
   "metadata": {},
   "outputs": [],
   "source": [
    "### Paso uno ###\n",
    "### que se suba el json, aca yo solo usaré una prueba ###\n",
    "with open('prueba.json', encoding='utf-8') as json_file:\n",
    "    data = json.load(json_file, object_pairs_hook=OrderedDict)\n",
    "hash_string=json.dumps(data, ensure_ascii=False,separators=(',', ':')).encode('utf8').decode()\n",
    "### Hash del json subido por el usuario\n",
    "sha_signature = encrypt_string(hash_string)\n",
    "### Buscamos el CertID en el json ingresado\n",
    "certID=obtener_certId_json(data)\n",
    "### Buscamos ahora el hash de la blockchain, faltaria definir bien la url\n",
    "json_file_block=url_id('http://localhost:3000/api/abscert/',certID)\n",
    "### Se obtiene un json como respuesta\n",
    "### Buscamos el hash en este json\n",
    "hash_blockchain=id_blockchain(json_file_block)\n",
    "### Verificamos que coincidan\n",
    "variable_bool=verificacion_hash(hash_signature,hash_blockchain)\n",
    "if variable_bool==True:\n",
    "    print(\"Esta auténtico el certificado\")\n",
    "else:\n",
    "    print(\"Esta mal\")"
   ]
  }
 ],
 "metadata": {
  "kernelspec": {
   "display_name": "Python 3",
   "language": "python",
   "name": "python3"
  },
  "language_info": {
   "codemirror_mode": {
    "name": "ipython",
    "version": 3
   },
   "file_extension": ".py",
   "mimetype": "text/x-python",
   "name": "python",
   "nbconvert_exporter": "python",
   "pygments_lexer": "ipython3",
   "version": "3.6.5"
  }
 },
 "nbformat": 4,
 "nbformat_minor": 2
}
